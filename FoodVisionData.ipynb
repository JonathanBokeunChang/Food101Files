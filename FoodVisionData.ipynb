{
  "nbformat": 4,
  "nbformat_minor": 0,
  "metadata": {
    "colab": {
      "provenance": [],
      "authorship_tag": "ABX9TyOW0E2lV0Uw/7WGdtlynYod",
      "include_colab_link": true
    },
    "kernelspec": {
      "name": "python3",
      "display_name": "Python 3"
    },
    "language_info": {
      "name": "python"
    }
  },
  "cells": [
    {
      "cell_type": "markdown",
      "metadata": {
        "id": "view-in-github",
        "colab_type": "text"
      },
      "source": [
        "<a href=\"https://colab.research.google.com/github/JonathanBokeunChang/Food101Files/blob/main/FoodVisionData.ipynb\" target=\"_parent\"><img src=\"https://colab.research.google.com/assets/colab-badge.svg\" alt=\"Open In Colab\"/></a>"
      ]
    },
    {
      "cell_type": "code",
      "source": [
        "from pathlib import Path"
      ],
      "metadata": {
        "id": "mnmq0BSFVSaj"
      },
      "execution_count": 4,
      "outputs": []
    },
    {
      "cell_type": "code",
      "execution_count": 6,
      "metadata": {
        "colab": {
          "base_uri": "https://localhost:8080/"
        },
        "id": "gJXVslj-UdSc",
        "outputId": "48e124a7-b16a-439a-f7ac-a2b0943a3592"
      },
      "outputs": [
        {
          "output_type": "stream",
          "name": "stdout",
          "text": [
            "--2024-11-16 06:21:39--  http://data.vision.ee.ethz.ch/cvl/food-101.tar.gz\n",
            "Resolving data.vision.ee.ethz.ch (data.vision.ee.ethz.ch)... 129.132.52.178, 2001:67c:10ec:36c2::178\n",
            "Connecting to data.vision.ee.ethz.ch (data.vision.ee.ethz.ch)|129.132.52.178|:80... connected.\n",
            "HTTP request sent, awaiting response... 302 Found\n",
            "Location: https://data.vision.ee.ethz.ch/cvl/food-101.tar.gz [following]\n",
            "--2024-11-16 06:21:39--  https://data.vision.ee.ethz.ch/cvl/food-101.tar.gz\n",
            "Connecting to data.vision.ee.ethz.ch (data.vision.ee.ethz.ch)|129.132.52.178|:443... connected.\n",
            "HTTP request sent, awaiting response... 200 OK\n",
            "Length: 4996278331 (4.7G) [application/x-gzip]\n",
            "Saving to: ‘Data/dataset.tar.gz’\n",
            "\n",
            "Data/dataset.tar.gz 100%[===================>]   4.65G  27.6MB/s    in 3m 10s  \n",
            "\n",
            "2024-11-16 06:24:49 (25.1 MB/s) - ‘Data/dataset.tar.gz’ saved [4996278331/4996278331]\n",
            "\n"
          ]
        }
      ],
      "source": [
        "data_dir = Path(\"Data\")\n",
        "data_path = data_dir / \"dataset.tar.gz\"\n",
        "data_dir.mkdir(parents = True, exist_ok = True)\n",
        "!wget -O {data_path} http://data.vision.ee.ethz.ch/cvl/food-101.tar.gz"
      ]
    },
    {
      "cell_type": "code",
      "source": [
        "Path(data_dir / \"extracted\").mkdir(parents = True, exist_ok = True)\n",
        "!tar -xzvf Data/dataset.tar.gz -C Data/extracted"
      ],
      "metadata": {
        "id": "jnyVA-LhZOf1"
      },
      "execution_count": 15,
      "outputs": []
    },
    {
      "cell_type": "code",
      "source": [
        "extracted_path = Path(data_dir / \"extracted\")"
      ],
      "metadata": {
        "id": "fwEU33oJZzZm"
      },
      "execution_count": 23,
      "outputs": []
    },
    {
      "cell_type": "code",
      "source": [
        "images_path = Path(extracted_path / \"food-101\" / \"images\")"
      ],
      "metadata": {
        "id": "0cyhNwtWbnmR"
      },
      "execution_count": 24,
      "outputs": []
    },
    {
      "cell_type": "code",
      "source": [
        "splits = [\"train\",\"test\"]\n",
        "targets = [\"pizza\", \"steak\", \"sushi\"]\n",
        "split_image_paths = {}\n",
        "amount = 0.5\n",
        "for split in splits:\n",
        "  meta_path = extracted_path / \"food-101\" / \"meta\" / (split+\".txt\")\n",
        "  with open(meta_path, \"r\") as file:\n",
        "    split_image_paths[split] = [Path(images_path / str(line.strip(\"\\n\") + \".jpg\"))  for line in file.readlines() if line.split(\"/\")[0] in targets]\n",
        "\n",
        "split_image_paths[\"train\"][0].name"
      ],
      "metadata": {
        "colab": {
          "base_uri": "https://localhost:8080/",
          "height": 35
        },
        "id": "Jnnhmaq3UwaA",
        "outputId": "861523db-e976-40ba-e748-598fb46e1103"
      },
      "execution_count": 47,
      "outputs": [
        {
          "output_type": "execute_result",
          "data": {
            "text/plain": [
              "'1008104.jpg'"
            ],
            "application/vnd.google.colaboratory.intrinsic+json": {
              "type": "string"
            }
          },
          "metadata": {},
          "execution_count": 47
        }
      ]
    },
    {
      "cell_type": "code",
      "source": [
        "import shutil\n",
        "\n",
        "new_dir = data_dir / \"pizza_steak_sushi\"\n",
        "new_dir.mkdir(parents = True, exist_ok = True)\n",
        "\n",
        "for split in split_image_paths:\n",
        "  for path in split_image_paths[split]:\n",
        "    target_path = new_dir / split / path.parent.stem / path.name\n",
        "    if not target_path.parent.is_dir():\n",
        "      target_path.parent.mkdir(parents = True, exist_ok = True)\n",
        "    shutil.copy2(path, target_path)"
      ],
      "metadata": {
        "id": "LdEmVo4VZeya"
      },
      "execution_count": 48,
      "outputs": []
    },
    {
      "cell_type": "code",
      "source": [
        "import os\n",
        "for dirpath, dirnames, filenames in os.walk(new_dir):\n",
        "    print(f\"There are {len(dirnames)} directories and {len(filenames)} images in '{dirpath}'.\")\n"
      ],
      "metadata": {
        "colab": {
          "base_uri": "https://localhost:8080/"
        },
        "id": "hWz0925xdAiJ",
        "outputId": "eb88dd7f-3b96-46f7-8570-320cdbfd2609"
      },
      "execution_count": 49,
      "outputs": [
        {
          "output_type": "stream",
          "name": "stdout",
          "text": [
            "There are 2 directories and 0 images in 'Data/pizza_steak_sushi'.\n",
            "There are 3 directories and 0 images in 'Data/pizza_steak_sushi/train'.\n",
            "There are 0 directories and 750 images in 'Data/pizza_steak_sushi/train/steak'.\n",
            "There are 0 directories and 750 images in 'Data/pizza_steak_sushi/train/sushi'.\n",
            "There are 0 directories and 750 images in 'Data/pizza_steak_sushi/train/pizza'.\n",
            "There are 3 directories and 0 images in 'Data/pizza_steak_sushi/test'.\n",
            "There are 0 directories and 250 images in 'Data/pizza_steak_sushi/test/steak'.\n",
            "There are 0 directories and 250 images in 'Data/pizza_steak_sushi/test/sushi'.\n",
            "There are 0 directories and 250 images in 'Data/pizza_steak_sushi/test/pizza'.\n"
          ]
        }
      ]
    },
    {
      "cell_type": "code",
      "source": [
        "zip_file = \"FoodVisionData\"\n",
        "shutil.make_archive(base_name = zip_file, format = \"zip\", root_dir = new_dir)"
      ],
      "metadata": {
        "colab": {
          "base_uri": "https://localhost:8080/",
          "height": 35
        },
        "id": "HodDCEAbgQVe",
        "outputId": "2eff3e14-9d6c-40eb-871e-86a222b90417"
      },
      "execution_count": 50,
      "outputs": [
        {
          "output_type": "execute_result",
          "data": {
            "text/plain": [
              "'/content/FoodVisionData.zip'"
            ],
            "application/vnd.google.colaboratory.intrinsic+json": {
              "type": "string"
            }
          },
          "metadata": {},
          "execution_count": 50
        }
      ]
    },
    {
      "cell_type": "code",
      "source": [
        "!apt-get install -y git\n"
      ],
      "metadata": {
        "colab": {
          "base_uri": "https://localhost:8080/"
        },
        "id": "srvLQxrfgwDv",
        "outputId": "b5fed1f2-96d3-4c7a-9dad-8f7595d80139"
      },
      "execution_count": 78,
      "outputs": [
        {
          "output_type": "stream",
          "name": "stdout",
          "text": [
            "Reading package lists... Done\n",
            "Building dependency tree... Done\n",
            "Reading state information... Done\n",
            "git is already the newest version (1:2.34.1-1ubuntu1.11).\n",
            "0 upgraded, 0 newly installed, 0 to remove and 49 not upgraded.\n"
          ]
        }
      ]
    },
    {
      "cell_type": "code",
      "source": [
        "!git clone https://github.com/JonathanBokeunChang/Food101Files.git"
      ],
      "metadata": {
        "colab": {
          "base_uri": "https://localhost:8080/"
        },
        "id": "Cwl4qupjkVfW",
        "outputId": "143ec89b-0dfd-41f2-9e64-2926247873ab"
      },
      "execution_count": 79,
      "outputs": [
        {
          "output_type": "stream",
          "name": "stdout",
          "text": [
            "fatal: destination path 'Food101Files' already exists and is not an empty directory.\n"
          ]
        }
      ]
    },
    {
      "cell_type": "code",
      "source": [
        "!git config --global user.email \"jonathanbokeunchang@gmail.com\"\n",
        "!git config --global user.name \"JonathanBokeunChang\""
      ],
      "metadata": {
        "id": "ixNOjveZg45R"
      },
      "execution_count": 80,
      "outputs": []
    },
    {
      "cell_type": "code",
      "source": [
        "!git init"
      ],
      "metadata": {
        "colab": {
          "base_uri": "https://localhost:8080/"
        },
        "id": "1P9mKqo4hN8j",
        "outputId": "e71ed98d-1bd5-4385-be64-a9feb68def08"
      },
      "execution_count": 81,
      "outputs": [
        {
          "output_type": "stream",
          "name": "stdout",
          "text": [
            "Reinitialized existing Git repository in /content/.git/\n"
          ]
        }
      ]
    },
    {
      "cell_type": "code",
      "source": [
        "!git add FoodVisionData.zip"
      ],
      "metadata": {
        "id": "JwOISkbHhO7E"
      },
      "execution_count": 82,
      "outputs": []
    },
    {
      "cell_type": "code",
      "source": [
        "!git commit -m \"add\""
      ],
      "metadata": {
        "colab": {
          "base_uri": "https://localhost:8080/"
        },
        "id": "trIjK8CFhTP7",
        "outputId": "f8cb504e-e9a1-4c58-d34f-308cb2dba422"
      },
      "execution_count": 83,
      "outputs": [
        {
          "output_type": "stream",
          "name": "stdout",
          "text": [
            "On branch main\n",
            "Untracked files:\n",
            "  (use \"git add <file>...\" to include in what will be committed)\n",
            "\t\u001b[31m.config/\u001b[m\n",
            "\t\u001b[31mData/\u001b[m\n",
            "\t\u001b[31mFood101Files/\u001b[m\n",
            "\t\u001b[31msample_data/\u001b[m\n",
            "\n",
            "nothing added to commit but untracked files present (use \"git add\" to track)\n"
          ]
        }
      ]
    },
    {
      "cell_type": "code",
      "source": [
        "!git remote add origin https://github.com/JonathanBokeunChang/Food101Files.git"
      ],
      "metadata": {
        "colab": {
          "base_uri": "https://localhost:8080/"
        },
        "id": "S1smPTQziFrN",
        "outputId": "e303af17-0493-431e-9af3-285e72b0412f"
      },
      "execution_count": 84,
      "outputs": [
        {
          "output_type": "stream",
          "name": "stdout",
          "text": [
            "error: remote origin already exists.\n"
          ]
        }
      ]
    },
    {
      "cell_type": "code",
      "source": [
        "!git remote -v"
      ],
      "metadata": {
        "colab": {
          "base_uri": "https://localhost:8080/"
        },
        "id": "uPBF-aAaig-K",
        "outputId": "2af86e01-47b6-4a04-b320-2e0e99f48d12"
      },
      "execution_count": 85,
      "outputs": [
        {
          "output_type": "stream",
          "name": "stdout",
          "text": [
            "origin\thttps://github.com/JonathanBokeunChang/Food101Files (fetch)\n",
            "origin\thttps://github.com/JonathanBokeunChang/Food101Files (push)\n"
          ]
        }
      ]
    },
    {
      "cell_type": "code",
      "source": [
        "!git push -u origin main"
      ],
      "metadata": {
        "colab": {
          "base_uri": "https://localhost:8080/"
        },
        "id": "9tOSKSLiiIbL",
        "outputId": "17738bdb-3bb1-4c49-f0be-9181df42b0e7"
      },
      "execution_count": 86,
      "outputs": [
        {
          "output_type": "stream",
          "name": "stdout",
          "text": [
            "fatal: could not read Username for 'https://github.com': No such device or address\n"
          ]
        }
      ]
    },
    {
      "cell_type": "code",
      "source": [],
      "metadata": {
        "colab": {
          "base_uri": "https://localhost:8080/"
        },
        "id": "JH0e9IiziQVo",
        "outputId": "3eedd3ff-bc99-4dd5-8615-c9ed2327c75f"
      },
      "execution_count": 72,
      "outputs": [
        {
          "output_type": "stream",
          "name": "stdout",
          "text": [
            "fatal: could not read Username for 'https://github.com': No such device or address\n"
          ]
        }
      ]
    },
    {
      "cell_type": "code",
      "source": [],
      "metadata": {
        "id": "yZP9lIM1irhc"
      },
      "execution_count": null,
      "outputs": []
    }
  ]
}